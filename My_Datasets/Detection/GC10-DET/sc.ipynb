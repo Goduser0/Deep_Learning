{
 "cells": [
  {
   "cell_type": "code",
   "execution_count": 2,
   "metadata": {},
   "outputs": [
    {
     "name": "stdout",
     "output_type": "stream",
     "text": [
      "2300\n"
     ]
    }
   ],
   "source": [
    "import sys\n",
    "import os\n",
    "import shutil\n",
    "import numpy as np\n",
    "import json\n",
    "import xml.etree.ElementTree as ET\n",
    "import mmcv\n",
    "from tqdm import tqdm\n",
    "from glob import glob\n",
    "import argparse\n",
    "\n",
    "def get(root, name):\n",
    "    vars = root.findall(name)\n",
    "    return vars\n",
    "\n",
    "xml_dir = \"/home/dlsuncheng/Dataset/GC10-DET/Images\"\n",
    "xml_list = os.listdir(xml_dir)\n",
    "print(len(xml_list))\n",
    "\n",
    "# for line in tqdm(xml_list):\n",
    "#     line = line.strip()\n",
    "#     # print(\"buddy~ Processing {}\".format(line))\n",
    "#     # 解析XML\n",
    "#     print(line)\n",
    "#     xml_f = os.path.join(xml_dir, line)\n",
    "#     tree = ET.parse(xml_f)\n",
    "#     root = tree.getroot()\n",
    "#     path = get(root, 'frame')\n",
    "#     for obj in get(root, 'object'):\n",
    "#         # 取出检测框类别名称\n",
    "#         category = get_and_check(obj, 'name', 1).text"
   ]
  },
  {
   "cell_type": "code",
   "execution_count": 2,
   "metadata": {},
   "outputs": [],
   "source": [
    "!python /home/dlsuncheng/Dataset/utils/datasplit.py \\\n",
    "    --anno_path /home/dlsuncheng/Dataset/GC10-DET/COCO-Annotations/instances_all.json \\\n",
    "    --save_path /home/dlsuncheng/Dataset/GC10-DET/COCO-Annotations/ "
   ]
  },
  {
   "cell_type": "code",
   "execution_count": null,
   "metadata": {},
   "outputs": [],
   "source": []
  }
 ],
 "metadata": {
  "interpreter": {
   "hash": "65e57e77d9cb1dae2c225a9d6301150c6310f6959e11bdded5136bb3021f2b92"
  },
  "kernelspec": {
   "display_name": "Python 3.7.11 64-bit ('fsod': conda)",
   "name": "python3"
  },
  "language_info": {
   "codemirror_mode": {
    "name": "ipython",
    "version": 3
   },
   "file_extension": ".py",
   "mimetype": "text/x-python",
   "name": "python",
   "nbconvert_exporter": "python",
   "pygments_lexer": "ipython3",
   "version": "3.7.11"
  },
  "orig_nbformat": 4
 },
 "nbformat": 4,
 "nbformat_minor": 2
}
