{
 "cells": [
  {
   "attachments": {},
   "cell_type": "markdown",
   "metadata": {},
   "source": [
    "***牛顿法***（*Newton's Method*）：基于一个二阶泰勒展开来近似$\\boldsymbol{x}^{(0)}$附近的$f(\\boldsymbol{x})$：\n",
    "$$f(\\boldsymbol{x})\\approx f(\\boldsymbol{x^{(0)}})+(\\boldsymbol{x}-\\boldsymbol{x}^{(0)})^{\\top}\\nabla_{x}f(\\boldsymbol{x^{(0)}})+\\dfrac{1}{2}(\\boldsymbol{x-x^{(0)}})^{\\top}\\mathrm{H} (\\boldsymbol{x^{(0)}})(\\boldsymbol{x-x}^{(0)})$$\n",
    "这个函数的临界点：\n",
    "$$\\boldsymbol x^*=\\boldsymbol x^{(0)}-\\operatorname H(\\boldsymbol x^{(0)})^{-1}\\nabla_xf(\\boldsymbol x^{(0)})\\quad$$\n",
    "$$\\mathrm{H}=\\boldsymbol{A}^\\top\\boldsymbol{A}$$\n",
    "$$\\boldsymbol{x}^*=\\boldsymbol{x}^{(0)}-\\left(\\boldsymbol{A}^{\\top}\\boldsymbol{A}\\right)^{-1}({\\boldsymbol{A}}^{\\top}{\\boldsymbol{A}}{\\boldsymbol{x}}^{(0)}-{\\boldsymbol{A}}^\\top{\\boldsymbol{b}})={({\\boldsymbol{A}^\\top}\\boldsymbol{A}})^{-1}{\\boldsymbol{A^\\top}}{\\boldsymbol{b}}\\quad$$"
   ]
  },
  {
   "cell_type": "code",
   "execution_count": 7,
   "metadata": {},
   "outputs": [
    {
     "data": {
      "text/plain": [
       "array([29., 16.,  3.])"
      ]
     },
     "execution_count": 7,
     "metadata": {},
     "output_type": "execute_result"
    }
   ],
   "source": [
    "import numpy as np\n",
    "import numpy.linalg as la\n",
    "\n",
    "x0 = np.array([1.0, 1.0, 1.0])\n",
    "A = np.array([[1.0, -2.0, 1.0], [0.0, 2.0, -8.0], [-4.0, 5.0, 9.0]])\n",
    "b = np.array([0.0, 8.0, -9.0])\n",
    "epsilon = 0.001\n",
    "delta = 1e-3\n",
    "# 给定 A，b，真正的解 x 为 [29, 16, 3]\n",
    "\n",
    "def matmul_chain(*args):\n",
    "    if len(args) == 0: return np.nan\n",
    "    result = args[0]\n",
    "    for x in args[1:]:\n",
    "        result = result@x\n",
    "    return result\n",
    "\n",
    "def newton(x, A, b, delta):\n",
    "    x = matmul_chain(np.linalg.inv(matmul_chain(A.T, A)), A.T, b)\n",
    "    return x\n",
    "newton(x0, A, b, delta)"
   ]
  }
 ],
 "metadata": {
  "kernelspec": {
   "display_name": "DLstudy",
   "language": "python",
   "name": "python3"
  },
  "language_info": {
   "codemirror_mode": {
    "name": "ipython",
    "version": 3
   },
   "file_extension": ".py",
   "mimetype": "text/x-python",
   "name": "python",
   "nbconvert_exporter": "python",
   "pygments_lexer": "ipython3",
   "version": "3.10.9"
  },
  "orig_nbformat": 4
 },
 "nbformat": 4,
 "nbformat_minor": 2
}
