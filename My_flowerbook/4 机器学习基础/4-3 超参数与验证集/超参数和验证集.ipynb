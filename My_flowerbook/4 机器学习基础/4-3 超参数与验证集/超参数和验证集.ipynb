{
 "cells": [
  {
   "attachments": {},
   "cell_type": "markdown",
   "metadata": {},
   "source": [
    ">* ***超参数***：用来**控制学习算法的参数**而非学习算法本身学出来的参数\n",
    "\n",
    ">* ***验证集***（*validation set*）：通常在需要选取超参数时，将训练集再划分为训练和验证集两部分，使⽤新的训练集训练模型，**验证集用来进行测试和调整超参**。\n",
    ">* ***$K$折交叉验证***：将数据集均分为**不相交的$k$份**，每次选取其中的一份作为测试集，其他为训练集，**训练误差为$k$次的平均误差**"
   ]
  },
  {
   "cell_type": "code",
   "execution_count": null,
   "metadata": {},
   "outputs": [],
   "source": [
    "import numpy as np\n",
    "\n",
    "def KFoldCV(D, A, k):\n",
    "    \"\"\"\n",
    "    k-fold交叉验证\n",
    "    \n",
    "    参数说明：\n",
    "    D：给定数据集\n",
    "    A：学习函数\n",
    "    k：折数\n",
    "    \"\"\"\n",
    "    \n",
    "    np.random.shuffle(D)\n",
    "    dataset = np.split(D, k)\n",
    "    acc_rate = 0\n",
    "    for i in range(k):\n",
    "        train_set = dataset.copy()\n",
    "        test_set = train_set.pop(i)\n",
    "        train_set = np.vstack(train_set)\n",
    "        A.train(train_set[:,:-1], train_set[:, -1]) # 每次的训练集\n",
    "        labels = A.fit(test_set[:, :-1]) # 每次的测试集\n",
    "        acc_rate += np.mean(labels==test_set[:, -1]) # 计算平均误差\n",
    "    return acc_rate / k\n",
    "\n",
    "\n",
    "        "
   ]
  }
 ],
 "metadata": {
  "language_info": {
   "name": "python"
  },
  "orig_nbformat": 4
 },
 "nbformat": 4,
 "nbformat_minor": 2
}
