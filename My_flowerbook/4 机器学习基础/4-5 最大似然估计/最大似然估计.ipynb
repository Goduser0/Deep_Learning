{
 "cells": [
  {
   "attachments": {},
   "cell_type": "markdown",
   "metadata": {},
   "source": [
    ">* ***最大似然估计***（*Maximum Likelihood Estimation，MLE*）：在已知分布产生的一些样本而未知分布具体参数的情况下，根据样本值推断最有可能产生样本的参数值。\n",
    ">    * 数据的真实分布记为$P_{data}(\\boldsymbol{x})$\n",
    ">    * 假设样本服从某一簇有参数确定的分布$P_{model}(\\boldsymbol{x};/theta)$\n",
    ">    * 目标是使用估计的$P_{model}$来拟合真实的$P_{data}$\n",
    "\n",
    ">使用训练数据经验分布$\\hat{P}_{data}$相关的期望进行计算：\n",
    ">$$\\theta_{ML}=\\arg\\max_{\\theta}\\mathbb{E}_{x\\sim\\hat{P}_{data}}\\log P_{model}(\\boldsymbol{x};\\theta)$$"
   ]
  }
 ],
 "metadata": {
  "language_info": {
   "name": "python"
  },
  "orig_nbformat": 4
 },
 "nbformat": 4,
 "nbformat_minor": 2
}
