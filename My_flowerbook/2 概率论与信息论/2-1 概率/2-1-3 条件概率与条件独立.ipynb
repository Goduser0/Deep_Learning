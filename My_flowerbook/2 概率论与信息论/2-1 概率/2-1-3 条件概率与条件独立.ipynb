{
 "cells": [
  {
   "attachments": {},
   "cell_type": "markdown",
   "metadata": {},
   "source": [
    ">* ***边缘概率***(*marginal probability*)：如果我们知道了⼀组变量的联合概率分布，但想要了解其中⼀个⼦集的概率分布。这种定义在⼦集上的概率分布被称为边缘概率分布。  \n",
    ">$$\\forall x\\in\\mathrm x,P\\left(\\mathrm x=x\\right)=\\sum_y P\\left(\\mathrm x=\\mathrm x,\\mathrm y=y\\right)$$"
   ]
  },
  {
   "attachments": {},
   "cell_type": "markdown",
   "metadata": {},
   "source": [
    ">* ***条件概率***（*conditional probability*）：感兴趣的事件在给定其他事件发生时出现的概率  \n",
    ">$$P\\left({\\mathrm{y}}=y\\mid{\\mathrm{x}}=x\\right)=\\dfrac{P\\left(\\mathrm{y}=y,\\mathrm{x}=x\\right)}{P\\left({{\\mathrm{x}}}=x\\right)}$$  \n",
    ">* ***条件概率的链式法则***（*chain rule of conditional probabality*）：任何多维随机变量都可以分解为只有一个变量的条件概率相乘的形式\n",
    ">$$P\\left(x_1,...,x_n\\right)=P\\left(x_1\\right)\\prod\\limits_{i=2}^n P\\left(x_i\\mid x_1,...,x_{i-1}\\right)$$"
   ]
  },
  {
   "attachments": {},
   "cell_type": "markdown",
   "metadata": {},
   "source": [
    ">* ***独立性***（*independence*）:\n",
    ">$$\\forall x\\in\\mathrm x,y\\in\\mathrm y,p(\\mathrm x=x,\\mathrm y=y)=p(\\mathrm x=x)p(\\mathrm y=y)$$\n",
    ">* ***条件独立性***（*conditional independence*）：\n",
    ">$$\\forall x\\in\\mathrm{x},y\\in\\mathrm{y},z\\in\\mathrm{z},p(\\mathrm{x}=x,\\mathrm{y}=y\\mid\\mathrm{z}=z)=p(\\mathrm{x}=x\\mid \\mathrm{z}=z)p(\\mathrm{y}=y\\mid \\mathrm{z}=z)$$"
   ]
  }
 ],
 "metadata": {
  "language_info": {
   "name": "python"
  },
  "orig_nbformat": 4
 },
 "nbformat": 4,
 "nbformat_minor": 2
}
