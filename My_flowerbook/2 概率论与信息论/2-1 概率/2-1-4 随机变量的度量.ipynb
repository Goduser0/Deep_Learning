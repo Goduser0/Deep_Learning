{
 "cells": [
  {
   "attachments": {},
   "cell_type": "markdown",
   "metadata": {},
   "source": [
    ">* ***期望***（*expectation*）\n",
    ">* ***方差***（*variance*）"
   ]
  },
  {
   "attachments": {},
   "cell_type": "markdown",
   "metadata": {},
   "source": [
    ">* ***协方差***（*covariance*）：用于衡量两组值之间的线性相关程度\n",
    ">$$\\operatorname{Cov}\\left(f(x),g(y)\\right)=\\mathbb E[(f(x)-\\mathbb E[f(x)])(g(y)-\\mathbb E[g(y)])]$$\n",
    ">独立比零方差要求更强，因为**独立还排除了非线性的相关**"
   ]
  },
  {
   "cell_type": "code",
   "execution_count": 1,
   "metadata": {},
   "outputs": [
    {
     "data": {
      "text/plain": [
       "(5.0,\n",
       " 6.666666666666667,\n",
       " 7.5,\n",
       " array([[ 7.5, -7.5],\n",
       "        [-7.5,  7.5]]))"
      ]
     },
     "execution_count": 1,
     "metadata": {},
     "output_type": "execute_result"
    }
   ],
   "source": [
    "import numpy as np\n",
    "\n",
    "x = np.array([1,2,3,4,5,6,7,8,9])\n",
    "y = np.array([9,8,7,6,5,4,3,2,1])\n",
    "\n",
    "# 均值\n",
    "Mean = np.mean(x)\n",
    "\n",
    "# 默认为总体方差\n",
    "Var = np.var(x)\n",
    "\n",
    "# 样本方差\n",
    "Var_sample = np.var(x, ddof=1)\n",
    "\n",
    "# 协方差\n",
    "Cov = np.cov(x, y)\n",
    "\n",
    "Mean, Var, Var_sample, Cov"
   ]
  }
 ],
 "metadata": {
  "kernelspec": {
   "display_name": "DLstudy",
   "language": "python",
   "name": "python3"
  },
  "language_info": {
   "codemirror_mode": {
    "name": "ipython",
    "version": 3
   },
   "file_extension": ".py",
   "mimetype": "text/x-python",
   "name": "python",
   "nbconvert_exporter": "python",
   "pygments_lexer": "ipython3",
   "version": "3.10.9"
  },
  "orig_nbformat": 4
 },
 "nbformat": 4,
 "nbformat_minor": 2
}
