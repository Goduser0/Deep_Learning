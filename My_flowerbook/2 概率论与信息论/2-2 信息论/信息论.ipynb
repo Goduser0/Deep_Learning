{
 "cells": [
  {
   "attachments": {},
   "cell_type": "markdown",
   "metadata": {},
   "source": [
    ">* ***信息论背后的思想***：一件不太可能的事件比一件比较可能的事件更有信息量"
   ]
  },
  {
   "attachments": {},
   "cell_type": "markdown",
   "metadata": {},
   "source": [
    ">* ***信息***（*information*）：  \n",
    ">三大条件：  \n",
    ">⽐较可能发⽣的事件的信息量要少。  \n",
    ">⽐较不可能发⽣的事件的信息量要⼤。  \n",
    ">独⽴发⽣的事件之间的信息量应该是可以叠加的。例如，投掷的硬币两次正⾯朝上传递的信息量，应该是投掷⼀次硬币正⾯朝上的信息量的两倍。"
   ]
  },
  {
   "attachments": {},
   "cell_type": "markdown",
   "metadata": {},
   "source": [
    ">* ***自信息***（*self-information*）：对于事件$\\mathrm{x}=x$，定义：  \n",
    ">$$I(x) = -\\log P(x)$$\n",
    ">自信息满足上述三个条件，单位为奈特（nats）"
   ]
  },
  {
   "attachments": {},
   "cell_type": "markdown",
   "metadata": {},
   "source": [
    ">* ***香农熵***（*Shannon entropy*）：上述的自信息只包含了一个事件的信息，而对于整个概率分布$P$，不确定性的衡量可以表示为：\n",
    ">$$H(P)=\\mathbb{E}_{x\\sim P}[\\mathrm{I}\\left(x\\right)]=-\\mathbb{E}_{\\sim P}[\\log P\\left(x\\right)]$$\n",
    ">香农熵是编码原理中的最优编码长度"
   ]
  },
  {
   "cell_type": "code",
   "execution_count": 1,
   "metadata": {},
   "outputs": [
    {
     "data": {
      "image/png": "[encoded data removed]",
      "text/plain": [
       "<Figure size 400x400 with 1 Axes>"
      ]
     },
     "metadata": {},
     "output_type": "display_data"
    }
   ],
   "source": [
    "import numpy as np\n",
    "import matplotlib.pyplot as plt\n",
    "\n",
    "p = np.linspace(1e-6, 1-1e-6, 100)\n",
    "entropy = (p-1)*np.log(1-p) - p*np.log(p)\n",
    "\n",
    "plt.figure(figsize=(4, 4))\n",
    "plt.plot(p, entropy)\n",
    "plt.xlabel('p')\n",
    "plt.ylabel('Shannon entropy in nats')\n",
    "plt.show()\n"
   ]
  },
  {
   "cell_type": "code",
   "execution_count": 6,
   "metadata": {},
   "outputs": [
    {
     "name": "stdout",
     "output_type": "stream",
     "text": [
      "\u0004<##\"\u000b)%9\"\u0013(\"\u0012\u0012-\u001d\u001e\u001e2\u0013\u0014$-\u0006<57!;62\u0013\u0016 \u00167>9\u001e)'@\u001c6\u0011\u0010\u0018\u001b\u00053\u0007#\u0015\n",
      ";\t4\u0016\"!\u000b\u0014\u000f9'3\u0002\u001b< +\u0007--?!.\":&@-6\u000128((\u0004/&\t\u0018(2\u001d\u001a\u00040\u0007(\u001a(\u0007\f\n",
      "1\u001f\u0013\t,'\u001d@3*\u0013#(\u001a\u0013\u0013>\u0010\u0016;3\u001d7\u0005\n",
      "3/\u001f/\u0016#5,\t\u0001\u001e(4'\f!\u0001\u001936\u001f9.*\u0017\n",
      "\u0012\u001a\f\u000e\u0011+\";'\u0019&\u0005&\t<\u0004\u00006\u001a+;\u0015\u001d !4\u001f\u000e\u0018\u00040\u001b\u00151\u0006<\u000e3\u0006\u0013\u00066@\u001e(\u001a !\u001f4\u000f\u0003:\u0016 \u0001#/)\u0005<%4\u0005@@#\t\u0014$\u000f\u0002\u001b*\u0013\u00142\n",
      "(\u001a%\f.\u0015?0?\n"
     ]
    },
    {
     "data": {
      "text/plain": [
       "5.900749465510934"
      ]
     },
     "execution_count": 6,
     "metadata": {},
     "output_type": "execute_result"
    }
   ],
   "source": [
    "import math\n",
    "\n",
    "def H(sentence):\n",
    "    \"\"\"最优编码距离\"\"\"\n",
    "    entropy = 0\n",
    "    # 这里有256个可能的ASCII符号\n",
    "    for character_i in range(256):\n",
    "        Px = sentence.count(chr(character_i)) / len(sentence)\n",
    "        if Px > 0:\n",
    "            entropy += -Px * math.log(Px, 2)\n",
    "    return entropy\n",
    "\n",
    "import random\n",
    "\n",
    "simple_message = \"\".join([chr(random.randint(0, 64)) for i in range(500)])\n",
    "print(simple_message)\n",
    "H(simple_message)"
   ]
  },
  {
   "attachments": {},
   "cell_type": "markdown",
   "metadata": {},
   "source": [
    ">* ***联合熵***（*joint entropy*）：考虑联合分布概率的熵\n",
    ">$$H(X,Y)=-\\sum_{x,y}P(x,y)\\log\\left(P(x,y)\\right)$$"
   ]
  },
  {
   "attachments": {},
   "cell_type": "markdown",
   "metadata": {},
   "source": [
    ">* ***条件熵***（*conditional entropy*）：某件事情已经发生的情况下，另外一件事情的熵\n",
    ">$$H(X|Y)=-\\sum_y P(y)\\sum_x P(x|y)\\log\\left(P(x|y)\\right)$$"
   ]
  },
  {
   "attachments": {},
   "cell_type": "markdown",
   "metadata": {},
   "source": [
    ">* ***互信息***（*mutual information*）：表示两个事件的信息相交的部分\n",
    ">$$I(X,Y)=H(X)+H(Y)\\mathrm{-}H(X,Y)$$"
   ]
  },
  {
   "attachments": {},
   "cell_type": "markdown",
   "metadata": {},
   "source": [
    ">* ***信息变差***（*variation of information*）：表示两个时间的信息不相交的部分\n",
    ">$$V(X,Y)=H(X,Y)\\mathrm{-}I(X,Y)$$"
   ]
  },
  {
   "attachments": {},
   "cell_type": "markdown",
   "metadata": {},
   "source": [
    ">* ***$KL$散度***（*Kullback-Leibler Divergence*）：衡量两个分布之间的差距：\n",
    ">$$\\operatorname{D}_{\\mathrm{KL}}(P||Q)=\\mathbb{E}_{x\\sim P}[\\log\\dfrac{P(x)}{Q(x)}]=\\mathbb{E}_{x\\sim P}[\\log P(x)-\\log Q(x)]$$\n",
    ">注意$\\mathrm{D}_{\\mathrm{KL}}(\\mathrm{P}||\\mathrm{Q})\\neq\\mathrm{D}_{{\\mathrm{KL}}}(\\mathrm{Q}||\\mathrm{P})$，不满足对称性"
   ]
  },
  {
   "attachments": {},
   "cell_type": "markdown",
   "metadata": {},
   "source": [
    ">* ***交叉熵***（*cross entropy*）：最小化交叉熵可使得两模型公布更接近\n",
    ">$$H(P,Q)=H(P)+\\operatorname{D}_{\\mathrm{KL}}(P||Q)=-\\mathbb{E}_{x\\sim P}[\\log Q(x)]$$"
   ]
  },
  {
   "cell_type": "code",
   "execution_count": 7,
   "metadata": {},
   "outputs": [
    {
     "name": "stdout",
     "output_type": "stream",
     "text": [
      "True\n"
     ]
    }
   ],
   "source": [
    "# KL定义\n",
    "from scipy.stats import entropy # 内置KL\n",
    "def kl(p, q):\n",
    "    p = np.asarray(p, dtype=float)\n",
    "    q = np.asarray(q, dtype=float)\n",
    "    return np.sum(np.where(p != 0, p * np.log(p / q), 0))\n",
    "\n",
    "p = [0.1, 0.9]\n",
    "q = [0.1, 0.9]\n",
    "\n",
    "print(entropy(p, q) == kl(p, q))"
   ]
  }
 ],
 "metadata": {
  "kernelspec": {
   "display_name": "DLstudy",
   "language": "python",
   "name": "python3"
  },
  "language_info": {
   "codemirror_mode": {
    "name": "ipython",
    "version": 3
   },
   "file_extension": ".py",
   "mimetype": "text/x-python",
   "name": "python",
   "nbconvert_exporter": "python",
   "pygments_lexer": "ipython3",
   "version": "3.10.9"
  },
  "orig_nbformat": 4
 },
 "nbformat": 4,
 "nbformat_minor": 2
}
