{
 "cells": [
  {
   "attachments": {},
   "cell_type": "markdown",
   "metadata": {},
   "source": [
    "* ***下溢***（*underflow*）：当接近0的数被四舍五入为0时发生下溢\n",
    "* ***上溢***（*overflow*）：当大量级的数被近似为$\\infty$或$-\\infty$时发生上溢"
   ]
  },
  {
   "cell_type": "code",
   "execution_count": 1,
   "metadata": {},
   "outputs": [
    {
     "name": "stdout",
     "output_type": "stream",
     "text": [
      "上溢： [nan nan nan nan]\n",
      "上溢处理： [0. 1. 0. 0.]\n"
     ]
    },
    {
     "name": "stderr",
     "output_type": "stream",
     "text": [
      "/tmp/ipykernel_7146/1410500497.py:5: RuntimeWarning: overflow encountered in exp\n",
      "  y = np.exp(x)/sum(np.exp(x))\n",
      "/tmp/ipykernel_7146/1410500497.py:5: RuntimeWarning: invalid value encountered in divide\n",
      "  y = np.exp(x)/sum(np.exp(x))\n"
     ]
    }
   ],
   "source": [
    "import numpy as np\n",
    "import numpy.linalg as la\n",
    "\n",
    "x = np.array([1e7, 1e8, 2e5, 2e7])\n",
    "y = np.exp(x)/sum(np.exp(x))\n",
    "\n",
    "print(\"上溢：\", y)\n",
    "x = x - np.max(x) # 减去最大值\n",
    "y = np.exp(x)/sum(np.exp(x))\n",
    "print(\"上溢处理：\", y)\n"
   ]
  },
  {
   "cell_type": "code",
   "execution_count": 4,
   "metadata": {},
   "outputs": [
    {
     "name": "stdout",
     "output_type": "stream",
     "text": [
      "下溢： [nan nan nan nan]\n",
      "下溢处理： [0. 1. 0. 0.]\n",
      "log softmax(x): [-inf   0. -inf -inf]\n",
      "logsoftmax(x): [-9.0e+09  0.0e+00 -1.9e+10 -9.0e+09]\n"
     ]
    },
    {
     "name": "stderr",
     "output_type": "stream",
     "text": [
      "/tmp/ipykernel_7146/2124579728.py:2: RuntimeWarning: invalid value encountered in divide\n",
      "  y = np.exp(x)/sum(np.exp(x))\n",
      "/tmp/ipykernel_7146/2124579728.py:9: RuntimeWarning: divide by zero encountered in log\n",
      "  print(\"log softmax(x):\", np.log(y))\n"
     ]
    }
   ],
   "source": [
    "x = np.array([-1e10, -1e9, -2e10, -1e10])\n",
    "y = np.exp(x)/sum(np.exp(x))\n",
    "\n",
    "print(\"下溢：\", y)\n",
    "x = x - np.max(x) # 减去最大值\n",
    "y = np.exp(x)/sum(np.exp(x))\n",
    "print(\"下溢处理：\", y)\n",
    "\n",
    "print(\"log softmax(x):\", np.log(y))\n",
    "\n",
    "# 对 log softmax 下溢的处理：\n",
    "def logsoftmax(x):\n",
    "    y = x - np.log(sum(np.exp(x)))\n",
    "    return y\n",
    "\n",
    "print(\"logsoftmax(x):\", logsoftmax(x))\n"
   ]
  }
 ],
 "metadata": {
  "kernelspec": {
   "display_name": "DLstudy",
   "language": "python",
   "name": "python3"
  },
  "language_info": {
   "codemirror_mode": {
    "name": "ipython",
    "version": 3
   },
   "file_extension": ".py",
   "mimetype": "text/x-python",
   "name": "python",
   "nbconvert_exporter": "python",
   "pygments_lexer": "ipython3",
   "version": "3.10.9"
  },
  "orig_nbformat": 4
 },
 "nbformat": 4,
 "nbformat_minor": 2
}
