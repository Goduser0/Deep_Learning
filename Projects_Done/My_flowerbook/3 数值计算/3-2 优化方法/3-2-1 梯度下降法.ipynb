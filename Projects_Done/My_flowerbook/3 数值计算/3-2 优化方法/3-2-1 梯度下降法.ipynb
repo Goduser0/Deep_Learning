{
 "cells": [
  {
   "attachments": {},
   "cell_type": "markdown",
   "metadata": {},
   "source": [
    "***梯度下降法***（*gradient descent*）：最小化具有多维输入的函数，建议新的点为：\n",
    "$$\\boldsymbol{x}'=\\boldsymbol{x}-\\epsilon\\nabla_xf(\\boldsymbol{x})$$\n",
    "其中$\\epsilon$为学习率（*learning rate*），是一个确定步长的正标量"
   ]
  },
  {
   "cell_type": "code",
   "execution_count": 1,
   "metadata": {},
   "outputs": [
    {
     "data": {
      "text/plain": [
       "array([27.82277014, 15.34731055,  2.83848939])"
      ]
     },
     "execution_count": 1,
     "metadata": {},
     "output_type": "execute_result"
    }
   ],
   "source": [
    "import numpy as np\n",
    "import numpy.linalg as la\n",
    "\n",
    "# 以线性最小二乘法为例\n",
    "\n",
    "x0 = np.array([1.0, 1.0, 1.0])\n",
    "A = np.array([[1.0, -2.0, 1.0], [0.0, 2.0, -8.0], [-4.0, 5.0, 9.0]])\n",
    "b = np.array([0.0, 8.0, -9.0])\n",
    "epsilon = 0.001\n",
    "delta = 1e-3\n",
    "# 给定 A，b，真正的解 x 为 [29, 16, 3]\n",
    "\n",
    "def matmul_chain(*args):\n",
    "    if len(args) == 0: \n",
    "        return np.nan\n",
    "    result = args[0]\n",
    "    for x in args[1:]:\n",
    "        result = result@x\n",
    "    return result\n",
    "\n",
    "def gradient_decent(x, A, b, epsilon, delta):\n",
    "    while la.norm(matmul_chain(A.T, A, x)-matmul_chain(A.T, b)) > delta:\n",
    "        x -= epsilon*(matmul_chain(A.T, A, x)-matmul_chain(A.T, b))\n",
    "    return x\n",
    "\n",
    "gradient_decent(x0, A, b, epsilon, delta)"
   ]
  }
 ],
 "metadata": {
  "kernelspec": {
   "display_name": "DLstudy",
   "language": "python",
   "name": "python3"
  },
  "language_info": {
   "codemirror_mode": {
    "name": "ipython",
    "version": 3
   },
   "file_extension": ".py",
   "mimetype": "text/x-python",
   "name": "python",
   "nbconvert_exporter": "python",
   "pygments_lexer": "ipython3",
   "version": "3.10.9"
  },
  "orig_nbformat": 4
 },
 "nbformat": 4,
 "nbformat_minor": 2
}
