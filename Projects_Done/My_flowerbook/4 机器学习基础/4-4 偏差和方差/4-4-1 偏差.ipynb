{
 "cells": [
  {
   "attachments": {},
   "cell_type": "markdown",
   "metadata": {},
   "source": [
    ">* ***偏差***（*Bias*）：偏差反映的是模型在样本上的输出与真实值之间的误差，即模型本身的精准度，或者说**算法本身的拟合能力**\n",
    ">$$bias(\\hat\\theta_m)=\\mathbb{E}(\\hat\\theta_m)-\\theta$$ \n",
    ">其中期望作⽤在所有数据上，$\\theta$是⽤于定义数据⽣成分布的真实值"
   ]
  }
 ],
 "metadata": {
  "language_info": {
   "name": "python"
  },
  "orig_nbformat": 4
 },
 "nbformat": 4,
 "nbformat_minor": 2
}
