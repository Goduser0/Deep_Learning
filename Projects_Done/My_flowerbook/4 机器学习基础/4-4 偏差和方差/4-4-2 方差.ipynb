{
 "cells": [
  {
   "attachments": {},
   "cell_type": "markdown",
   "metadata": {},
   "source": [
    ">* ***方差***（*Variance*）：反映的是模型每一次输出结果与模型输出期望之间的误差，即模型的稳定性\n",
    ">$$\\text{Var}\\left(\\hat{\\theta}\\right)$$"
   ]
  }
 ],
 "metadata": {
  "language_info": {
   "name": "python"
  },
  "orig_nbformat": 4
 },
 "nbformat": 4,
 "nbformat_minor": 2
}
