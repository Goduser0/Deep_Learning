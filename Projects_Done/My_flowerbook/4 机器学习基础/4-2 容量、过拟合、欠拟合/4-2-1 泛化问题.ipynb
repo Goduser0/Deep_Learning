{
 "cells": [
  {
   "attachments": {},
   "cell_type": "markdown",
   "metadata": {},
   "source": [
    "> * ***泛化能力***（*generalization*）：在未见过的数据输入上表现良好\n",
    "> * ***训练误差***（*training error*）：量化模型在训练集上的表现\n",
    "> * ***测试误差***（*test error*）：量化模型在测试集上的表现，也常被称为泛化误差（*generalization error*）\n",
    "> ***理想的模型就是在最小化训练误差的同时，最小化泛化误差，具有良好的泛化能力的算法才是符合需求的***\n",
    "\n",
    "> * ***欠拟合***（*underfitting*）：模型**在训练集上误差较大**，通常是由于训练不充分或者模型不合适导致\n",
    "> * ***过拟合***（*overfitting*）：模型**在训练集和测试集上误差差距过大**，通常是由于模型过分拟合了训练集中的随机噪声，导致泛化能力较差。采用**正则化**，可以**降低泛化误差**"
   ]
  }
 ],
 "metadata": {
  "language_info": {
   "name": "python"
  },
  "orig_nbformat": 4
 },
 "nbformat": 4,
 "nbformat_minor": 2
}
