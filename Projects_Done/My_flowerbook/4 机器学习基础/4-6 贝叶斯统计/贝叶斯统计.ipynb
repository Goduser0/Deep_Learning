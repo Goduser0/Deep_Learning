{
 "cells": [
  {
   "attachments": {},
   "cell_type": "markdown",
   "metadata": {},
   "source": [
    ">* ***贝叶斯估计***（*Bayesian statistics*）：考虑到所有的参数值以及这些参数的先验概率分布，通过贝叶斯准则来估计参数的后验分布情况，贝叶斯统计认为训练数据是确定的，而参数是随机且不唯一的，每个参数都有相应的概率。\n",
    ">* ***先验概率分布***（*prior probability distribution*）：将$\\theta$的已知知识称为先验概率分布$p(\\theta)$\n",
    ">$$p(\\theta\\mid{x^{(1)}},\\cdots,{x^{(m)}})=\\dfrac{p(\\boldsymbol{x}^{(1)},\\cdots,\\boldsymbol{x^{(m)}}\\mid\\theta)p(\\theta)}{p(\\boldsymbol{x^{(1)}},\\cdots,{\\boldsymbol{x}}^{(m)})}$$\n",
    ">先验是相对均匀的高斯分布或高熵的高斯分布，观测数据通常会使后验的熵下降。当训练数据有限时，贝叶斯方法通常泛化得更好\n",
    "\n",
    ">* ***参数的后验分布***（*posterior distribution*）：贝叶斯估计假设已知的是参数的先验分布情况和模型的类簇，之后利用数据集的样本点根据贝叶斯尊则来对参数的分布情况进行修正。他得到的结果不是一个单一的参数值，而是根据参数先验分布和真实样本得到的修正过后的参数分布，即参数的后验分布\n",
    ">* 已知$m$个样本后，估计第$m+1$个样本发布的公式为：\n",
    ">$$p({\\pmb x}^{(m+1)}\\mid{\\pmb x}^{(1)},{\\pmb x}^{(2)}...,{\\pmb x}^{(m)})=\\int{p({\\pmb x}^{(m+1)}}\\mid{\\theta})p({\\theta}\\mid{\\pmb x}^{(1)}{\\pmb x}^{(2)}{...},{\\pmb x}^{\\mathop{(m)}})d{\\theta}\\quad$$"
   ]
  }
 ],
 "metadata": {
  "language_info": {
   "name": "python"
  },
  "orig_nbformat": 4
 },
 "nbformat": 4,
 "nbformat_minor": 2
}
