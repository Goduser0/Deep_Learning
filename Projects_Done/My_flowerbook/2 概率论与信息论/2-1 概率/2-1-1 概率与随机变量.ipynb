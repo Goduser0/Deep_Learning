{
 "cells": [
  {
   "attachments": {},
   "cell_type": "markdown",
   "metadata": {},
   "source": [
    "* ***频率学派概率***（*frequentist probability*）：认为概率和事件发生的频率相关  \n",
    "* ***贝叶斯学派概率***（*bayesian probability*）：认为概率是对某件事发生的确定程度，即确信的程度  \n",
    "* ***随机变量***（*random variable*）：一个可能随机取不同值的变量"
   ]
  }
 ],
 "metadata": {
  "language_info": {
   "name": "python"
  },
  "orig_nbformat": 4
 },
 "nbformat": 4,
 "nbformat_minor": 2
}
