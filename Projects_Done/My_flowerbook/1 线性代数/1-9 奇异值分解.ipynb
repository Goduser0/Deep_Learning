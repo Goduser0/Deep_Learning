{
 "cells": [
  {
   "attachments": {},
   "cell_type": "markdown",
   "metadata": {},
   "source": [
    ">* ***奇异值分解（Singular Value Decomposition，SVD）***：将矩阵分解为奇异向量和奇异值。所有实矩阵都可进行奇异值分解  \n",
    ">$$A=U\\Sigma V^\\top$$  \n",
    ">>$A:m×n$  \n",
    ">>$U:m×m$：其列向量为左奇异向量  \n",
    ">>$ \\Sigma :m×n$：对角矩阵，其对角元素为$A$的奇异值  \n",
    ">>$V:n×n$：其列向量为右奇异向量  "
   ]
  },
  {
   "cell_type": "code",
   "execution_count": 1,
   "metadata": {},
   "outputs": [
    {
     "name": "stdout",
     "output_type": "stream",
     "text": [
      "U:\n",
      " [[-0.3863177  -0.92236578]\n",
      " [-0.92236578  0.3863177 ]]\n",
      "D:\n",
      " [9.508032   0.77286964]\n",
      "V:\n",
      " [[-0.42866713 -0.56630692 -0.7039467 ]\n",
      " [ 0.80596391  0.11238241 -0.58119908]\n",
      " [ 0.40824829 -0.81649658  0.40824829]]\n"
     ]
    }
   ],
   "source": [
    "import numpy as np\n",
    "\n",
    "A = np.array([\n",
    "    [1., 2., 3.],\n",
    "    [4., 5., 6.]\n",
    "])\n",
    "\n",
    "U, D, V = np.linalg.svd(A)\n",
    "\n",
    "print(\"U:\" + '\\n', U)\n",
    "print(\"D:\" + '\\n', D)\n",
    "print(\"V:\" + '\\n', V)\n"
   ]
  }
 ],
 "metadata": {
  "kernelspec": {
   "display_name": "DLstudy",
   "language": "python",
   "name": "python3"
  },
  "language_info": {
   "codemirror_mode": {
    "name": "ipython",
    "version": 3
   },
   "file_extension": ".py",
   "mimetype": "text/x-python",
   "name": "python",
   "nbconvert_exporter": "python",
   "pygments_lexer": "ipython3",
   "version": "3.10.9"
  },
  "orig_nbformat": 4
 },
 "nbformat": 4,
 "nbformat_minor": 2
}
