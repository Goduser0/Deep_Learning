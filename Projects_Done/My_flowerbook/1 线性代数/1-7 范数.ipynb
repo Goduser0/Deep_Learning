{
 "cells": [
  {
   "attachments": {},
   "cell_type": "markdown",
   "metadata": {},
   "source": [
    "* ***范数（norm）***：向量的$L^p$范数定义为：  \n",
    "$$\\|\\boldsymbol{x}\\|_p=\\left(\\sum_i|x_i|^p\\right)^\\frac{1}{p},p\\in\\mathbb{R},p\\ge1$$  \n",
    "* ***$L^2$范数*** ：即欧几里得范数（Euclidean norm）  \n",
    "* ***$L^1$范数*** ：$L^2$范数并不⼀定适⽤于所有的情况，它在原点附近的增长就⼗分缓慢，因此不适⽤于需要区别0和⾮常⼩但是⾮0值的情况。$L^1$范数就是⼀个⽐较好的选择，它在所有⽅向上的增长速率都是⼀样的，经常使用在需要**区分0和非0元素**的情形中  \n",
    "* ***$L^0$范数*** ：衡量向量中非0的个数，但它 **并不是一个范数（不满足三角不等式和数乘）** ，此时$L^1$范数可以作为它的一个替代 \n",
    "* ***$L^\\infty$范数（Max norm）***：在数学上是向量元素绝对值的最⼤值\n",
    "* ***$F$范数（Frobenius norm）***：衡量一个矩阵  \n",
    "$$\\|\\boldsymbol{A}\\|_F=\\sqrt{\\sum_{i,j}A_{i,j}^2}$$\n"
   ]
  },
  {
   "cell_type": "code",
   "execution_count": 10,
   "metadata": {},
   "outputs": [
    {
     "name": "stdout",
     "output_type": "stream",
     "text": [
      "向量 [1. 3.]\n",
      "向量的 L2范数： 3.1622776601683795\n",
      "向量的 L1范数： 4.0\n",
      "向量的 无穷范数： 3.0\n"
     ]
    }
   ],
   "source": [
    "import numpy as np\n",
    "\n",
    "a = np.array([1., 3.])\n",
    "print('向量', a)\n",
    "print(f'向量的 L2范数：', np.linalg.norm(a, ord=2))\n",
    "print(f'向量的 L1范数：', np.linalg.norm(a, ord=1))\n",
    "print(f\"向量的 无穷范数：\", np.linalg.norm(a,ord=np.inf))\n"
   ]
  },
  {
   "cell_type": "code",
   "execution_count": 11,
   "metadata": {},
   "outputs": [
    {
     "name": "stdout",
     "output_type": "stream",
     "text": [
      "矩阵\n",
      " [[1. 3.]\n",
      " [2. 1.]]\n",
      "矩阵的 F范数： 3.872983346207417\n"
     ]
    }
   ],
   "source": [
    "a = np.array([[1.0,3.0],[2.0,1.0]])\n",
    "print(f'矩阵' + '\\n', a)\n",
    "print(f'矩阵的 F范数：', np.linalg.norm(a,ord=\"fro\"))\n"
   ]
  }
 ],
 "metadata": {
  "kernelspec": {
   "display_name": "DLstudy",
   "language": "python",
   "name": "python3"
  },
  "language_info": {
   "codemirror_mode": {
    "name": "ipython",
    "version": 3
   },
   "file_extension": ".py",
   "mimetype": "text/x-python",
   "name": "python",
   "nbconvert_exporter": "python",
   "pygments_lexer": "ipython3",
   "version": "3.10.9"
  },
  "orig_nbformat": 4
 },
 "nbformat": 4,
 "nbformat_minor": 2
}
