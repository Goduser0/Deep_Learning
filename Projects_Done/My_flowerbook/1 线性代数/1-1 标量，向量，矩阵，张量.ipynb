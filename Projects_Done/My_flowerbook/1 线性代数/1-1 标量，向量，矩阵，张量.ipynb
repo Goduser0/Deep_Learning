{
 "cells": [
  {
   "attachments": {},
   "cell_type": "markdown",
   "metadata": {},
   "source": [
    "* ***标量（scalar）***：单独一个数  \n",
    "* ***向量（vector）***：表示一列有序排列数  \n",
    "* ***矩阵（matrix）***：二维数组\n",
    "* ***张量（tensor）***：超过二维的数组"
   ]
  },
  {
   "cell_type": "code",
   "execution_count": 2,
   "metadata": {},
   "outputs": [
    {
     "name": "stdout",
     "output_type": "stream",
     "text": [
      "标量: \n",
      "5\n",
      "向量: \n",
      "[1 2]\n",
      "矩阵: \n",
      "[[1 2]\n",
      " [3 4]]\n",
      "张量: \n",
      "[[[ 1  2  3]\n",
      "  [ 4  5  6]\n",
      "  [ 7  8  9]]\n",
      "\n",
      " [[11 12 13]\n",
      "  [14 15 16]\n",
      "  [17 18 19]]\n",
      "\n",
      " [[21 22 23]\n",
      "  [24 25 26]\n",
      "  [27 28 29]]]\n"
     ]
    }
   ],
   "source": [
    "import numpy as np\n",
    "\n",
    "# 标量\n",
    "s = 5\n",
    "# 向量\n",
    "v = np.array([1,2])\n",
    "# 矩阵\n",
    "m = np.array([[1,2], [3,4]])\n",
    "# 张量\n",
    "t = np.array([\n",
    "[[1,2,3],[4,5,6],[7,8,9]],\n",
    "[[11,12,13],[14,15,16],[17,18,19]],\n",
    "[[21,22,23],[24,25,26],[27,28,29]],\n",
    "])\n",
    "print(\"标量: \" + '\\n' + str(s))\n",
    "print(\"向量: \" + '\\n' + str(v))\n",
    "print(\"矩阵: \" + '\\n' + str(m))\n",
    "print(\"张量: \" + '\\n' + str(t))\n"
   ]
  }
 ],
 "metadata": {
  "kernelspec": {
   "display_name": "DLstudy",
   "language": "python",
   "name": "python3"
  },
  "language_info": {
   "codemirror_mode": {
    "name": "ipython",
    "version": 3
   },
   "file_extension": ".py",
   "mimetype": "text/x-python",
   "name": "python",
   "nbconvert_exporter": "python",
   "pygments_lexer": "ipython3",
   "version": "3.10.9"
  },
  "orig_nbformat": 4
 },
 "nbformat": 4,
 "nbformat_minor": 2
}
