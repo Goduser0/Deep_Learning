{
 "cells": [
  {
   "attachments": {},
   "cell_type": "markdown",
   "metadata": {},
   "source": [
    "* ***矩阵乘法***：记为$AB$\n",
    "* ***Hadamard乘积***：记为$A \\odot B$，对应元素相乘\n",
    "* ***点乘（Dot Product）/内积***：相同维数的向量间对应元素相乘再相加"
   ]
  },
  {
   "cell_type": "code",
   "execution_count": 1,
   "metadata": {},
   "outputs": [
    {
     "name": "stdout",
     "output_type": "stream",
     "text": [
      "按矩阵乘法规则：\n",
      " [[16.  2.]\n",
      " [ 1.  2.]]\n",
      "按逐元素相乘：\n",
      " [[1. 6.]\n",
      " [5. 0.]]\n",
      "按逐元素相乘：\n",
      " [[1. 6.]\n",
      " [5. 0.]]\n",
      "向量内积：\n",
      " 14.0\n"
     ]
    }
   ],
   "source": [
    "import numpy as np\n",
    "\n",
    "m1 = np.array([[1.0,3.0],[1.0,0.0]])\n",
    "m2 = np.array([[1.0,2.0],[5.0,0.0]])\n",
    "print(\"按矩阵乘法规则：\" + '\\n', np.dot(m1, m2))\n",
    "print(\"按逐元素相乘：\" + '\\n', np.multiply(m1, m2))\n",
    "print(\"按逐元素相乘：\" + '\\n', m1*m2)\n",
    "v1 = np.array([1.0,2.0])\n",
    "v2 = np.array([4.0,5.0])\n",
    "print(\"向量内积：\" + '\\n', np.dot(v1, v2))"
   ]
  }
 ],
 "metadata": {
  "kernelspec": {
   "display_name": "DLstudy",
   "language": "python",
   "name": "python3"
  },
  "language_info": {
   "codemirror_mode": {
    "name": "ipython",
    "version": 3
   },
   "file_extension": ".py",
   "mimetype": "text/x-python",
   "name": "python",
   "nbconvert_exporter": "python",
   "pygments_lexer": "ipython3",
   "version": "3.10.9"
  },
  "orig_nbformat": 4
 },
 "nbformat": 4,
 "nbformat_minor": 2
}
