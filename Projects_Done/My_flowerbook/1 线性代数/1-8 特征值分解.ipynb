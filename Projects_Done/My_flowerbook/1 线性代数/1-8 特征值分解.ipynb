{
 "cells": [
  {
   "attachments": {},
   "cell_type": "markdown",
   "metadata": {},
   "source": [
    "* ***$A$的特征值分解（eigen decomposition）***：  \n",
    "$$A=V\\mathrm{diag}(\\lambda)V^{-1}$$"
   ]
  },
  {
   "cell_type": "code",
   "execution_count": 1,
   "metadata": {},
   "outputs": [
    {
     "name": "stdout",
     "output_type": "stream",
     "text": [
      "特征值: [ 1.61168440e+01 -1.11684397e+00 -9.75918483e-16]\n",
      "特征值: [ 1.61168440e+01 -1.11684397e+00 -9.75918483e-16]\n",
      "特征向量: [[-0.23197069 -0.78583024  0.40824829]\n",
      " [-0.52532209 -0.08675134 -0.81649658]\n",
      " [-0.8186735   0.61232756  0.40824829]]\n"
     ]
    }
   ],
   "source": [
    "import numpy as np\n",
    "\n",
    "A = np.array([[1.0,2.0,3.0],\n",
    "              [4.0,5.0,6.0],\n",
    "              [7.0,8.0,9.0]])\n",
    "\n",
    "# 计算特征值\n",
    "print(\"特征值:\", np.linalg.eigvals(A))\n",
    "\n",
    "# 计算特征值和特征向量\n",
    "eigvals, eigvectors = np.linalg.eig(A)\n",
    "print(\"特征值:\", eigvals)\n",
    "print(\"特征向量:\", eigvectors)\n"
   ]
  }
 ],
 "metadata": {
  "kernelspec": {
   "display_name": "DLstudy",
   "language": "python",
   "name": "python3"
  },
  "language_info": {
   "codemirror_mode": {
    "name": "ipython",
    "version": 3
   },
   "file_extension": ".py",
   "mimetype": "text/x-python",
   "name": "python",
   "nbconvert_exporter": "python",
   "pygments_lexer": "ipython3",
   "version": "3.10.9"
  },
  "orig_nbformat": 4
 },
 "nbformat": 4,
 "nbformat_minor": 2
}
