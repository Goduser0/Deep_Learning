{
 "cells": [
  {
   "cell_type": "code",
   "execution_count": 1,
   "metadata": {},
   "outputs": [],
   "source": [
    "import numpy as np\n",
    "import torch\n",
    "from torch.utils import data\n",
    "from d2l import torch as d2l\n",
    "\n",
    "true_w=torch.tensor([2,-3.4])\n",
    "true_b=4.2\n",
    "features,labels=d2l.synthetic_data(true_w,true_b,1000)"
   ]
  },
  {
   "cell_type": "code",
   "execution_count": 5,
   "metadata": {},
   "outputs": [
    {
     "data": {
      "text/plain": [
       "[tensor([[ 0.0833,  0.1982],\n",
       "         [-0.3860,  0.9182],\n",
       "         [-0.0838,  0.1522],\n",
       "         [-0.5823, -1.0185],\n",
       "         [-2.3757,  1.1637],\n",
       "         [-0.1713,  1.4689],\n",
       "         [-0.7935, -0.4671],\n",
       "         [-0.3966,  1.4766],\n",
       "         [-0.0205, -1.8484],\n",
       "         [ 1.1256,  1.2279]]),\n",
       " tensor([[ 3.6893],\n",
       "         [ 0.3149],\n",
       "         [ 3.5160],\n",
       "         [ 6.4962],\n",
       "         [-4.5175],\n",
       "         [-1.1384],\n",
       "         [ 4.1914],\n",
       "         [-1.6115],\n",
       "         [10.4458],\n",
       "         [ 2.2778]])]"
      ]
     },
     "execution_count": 5,
     "metadata": {},
     "output_type": "execute_result"
    }
   ],
   "source": [
    "# 构造数据迭代器\n",
    "def load_array(data_arrays,batch_size,is_train=True):\n",
    "    dataset=data.TensorDataset(*data_arrays)\n",
    "    return data.DataLoader(dataset,batch_size,shuffle=is_train)\n",
    "\n",
    "batch_size=10\n",
    "data_iter=load_array((features,labels),batch_size)\n",
    "\n",
    "next(iter(data_iter))"
   ]
  },
  {
   "cell_type": "code",
   "execution_count": 6,
   "metadata": {},
   "outputs": [],
   "source": [
    "from torch import nn #nn为神经网络缩写\n",
    "net=nn.Sequential(nn.Linear(2,1)) #加入输入为2输出为1的线性层，"
   ]
  },
  {
   "cell_type": "code",
   "execution_count": 13,
   "metadata": {},
   "outputs": [
    {
     "data": {
      "text/plain": [
       "(tensor([[-0.0067, -0.0119]]), tensor([0.]))"
      ]
     },
     "execution_count": 13,
     "metadata": {},
     "output_type": "execute_result"
    }
   ],
   "source": [
    "#初始化模型参数\n",
    "net[0].weight.data.normal_(0,0.01) #w用均值为0，方差为1的分布来代替\n",
    "net[0].bias.data.fill_(0) #b用0来代替\n",
    "net[0].weight.data,net[0].bias.data"
   ]
  },
  {
   "cell_type": "code",
   "execution_count": 5,
   "metadata": {},
   "outputs": [],
   "source": [
    "#计算均方误差\n",
    "loss=nn.MSELoss()\n",
    "#实例化SGD实例\n",
    "trainer=torch.optim.SGD(net.parameters(),lr=0.03) #net.parameters()表示取出net的所有参数"
   ]
  },
  {
   "cell_type": "code",
   "execution_count": 6,
   "metadata": {},
   "outputs": [
    {
     "name": "stdout",
     "output_type": "stream",
     "text": [
      "epoch1,loss0.000238\n",
      "epoch2,loss0.000101\n",
      "epoch3,loss0.000101\n"
     ]
    }
   ],
   "source": [
    "num_epochs=3\n",
    "for epoch in range(num_epochs):\n",
    "    for X,y in data_iter:\n",
    "        l=loss(net(X),y)\n",
    "        trainer.zero_grad()\n",
    "        l.backward()\n",
    "        trainer.step()\n",
    "    l=loss(net(features),labels)\n",
    "    print(f'epoch{epoch+1},loss{l:f}')\n"
   ]
  }
 ],
 "metadata": {
  "kernelspec": {
   "display_name": "DLstudy",
   "language": "python",
   "name": "python3"
  },
  "language_info": {
   "codemirror_mode": {
    "name": "ipython",
    "version": 3
   },
   "file_extension": ".py",
   "mimetype": "text/x-python",
   "name": "python",
   "nbconvert_exporter": "python",
   "pygments_lexer": "ipython3",
   "version": "3.10.9"
  },
  "orig_nbformat": 4,
  "vscode": {
   "interpreter": {
    "hash": "71f407c3392af13ca513774fb11a5db44646374b959749a971288fd17e7ce37f"
   }
  }
 },
 "nbformat": 4,
 "nbformat_minor": 2
}
