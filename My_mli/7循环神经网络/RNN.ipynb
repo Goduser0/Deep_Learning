{
 "cells": [
  {
   "cell_type": "code",
   "execution_count": 4,
   "metadata": {},
   "outputs": [
    {
     "data": {
      "text/plain": [
       "tensor([[-4.7912,  3.2288, -5.0301, -1.1047],\n",
       "        [-0.2514,  3.7989, -3.2886, -1.3174],\n",
       "        [-0.4788,  3.1382,  1.7026,  3.7533]])"
      ]
     },
     "execution_count": 4,
     "metadata": {},
     "output_type": "execute_result"
    }
   ],
   "source": [
    "import torch\n",
    "from d2l import torch as d2l\n",
    "\n",
    "X, W_xh = torch.normal(0, 1, (3, 1)), torch.normal(0, 1, (1, 4))\n",
    "H, W_hh = torch.normal(0, 1, (3, 4)), torch.normal(0, 1, (4, 4))\n",
    "result = torch.matmul(X, W_xh) + torch.matmul(H, W_hh)\n",
    "result"
   ]
  },
  {
   "cell_type": "code",
   "execution_count": 5,
   "metadata": {},
   "outputs": [
    {
     "data": {
      "text/plain": [
       "tensor([[-4.7912,  3.2288, -5.0301, -1.1047],\n",
       "        [-0.2514,  3.7989, -3.2886, -1.3174],\n",
       "        [-0.4788,  3.1382,  1.7026,  3.7533]])"
      ]
     },
     "execution_count": 5,
     "metadata": {},
     "output_type": "execute_result"
    }
   ],
   "source": [
    "b = torch.matmul(torch.cat([X, H], dim=1), torch.cat([W_xh, W_hh], dim=0))\n",
    "b"
   ]
  }
 ],
 "metadata": {
  "kernelspec": {
   "display_name": "DLstudy",
   "language": "python",
   "name": "python3"
  },
  "language_info": {
   "codemirror_mode": {
    "name": "ipython",
    "version": 3
   },
   "file_extension": ".py",
   "mimetype": "text/x-python",
   "name": "python",
   "nbconvert_exporter": "python",
   "pygments_lexer": "ipython3",
   "version": "3.10.9"
  },
  "orig_nbformat": 4,
  "vscode": {
   "interpreter": {
    "hash": "71f407c3392af13ca513774fb11a5db44646374b959749a971288fd17e7ce37f"
   }
  }
 },
 "nbformat": 4,
 "nbformat_minor": 2
}
